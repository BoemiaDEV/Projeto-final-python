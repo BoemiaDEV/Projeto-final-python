{
 "cells": [
  {
   "cell_type": "code",
   "execution_count": 2,
   "metadata": {},
   "outputs": [
    {
     "name": "stderr",
     "output_type": "stream",
     "text": [
      "C:\\Users\\USER\\AppData\\Local\\Temp\\ipykernel_12852\\2610632330.py:10: UserWarning: Substituting font arial by core font helvetica\n",
      "  pdf.set_font('Arial', 'B', 16)\n",
      "C:\\Users\\USER\\AppData\\Local\\Temp\\ipykernel_12852\\2610632330.py:11: DeprecationWarning: The parameter \"ln\" is deprecated. Instead of ln=True use new_x=XPos.LMARGIN, new_y=YPos.NEXT.\n",
      "  pdf.cell(0, 10, title, ln=True, align='C')\n",
      "C:\\Users\\USER\\AppData\\Local\\Temp\\ipykernel_12852\\2610632330.py:16: UserWarning: Substituting font arial by core font helvetica\n",
      "  pdf.set_font('Arial', '', 12)\n",
      "C:\\Users\\USER\\AppData\\Local\\Temp\\ipykernel_12852\\2610632330.py:33: UserWarning: Substituting font arial by core font helvetica\n",
      "  pdf.set_font('Arial', 'B', 16)\n",
      "C:\\Users\\USER\\AppData\\Local\\Temp\\ipykernel_12852\\2610632330.py:34: DeprecationWarning: The parameter \"ln\" is deprecated. Instead of ln=True use new_x=XPos.LMARGIN, new_y=YPos.NEXT.\n",
      "  pdf.cell(0, 10, 'Conclusão', ln=True, align='C')\n",
      "C:\\Users\\USER\\AppData\\Local\\Temp\\ipykernel_12852\\2610632330.py:35: UserWarning: Substituting font arial by core font helvetica\n",
      "  pdf.set_font('Arial', '', 12)\n"
     ]
    },
    {
     "name": "stdout",
     "output_type": "stream",
     "text": [
      "O PDF foi criado com sucesso: relatorio_educacional.pdf\n"
     ]
    }
   ],
   "source": [
    "from fpdf import FPDF\n",
    "\n",
    "def add_cover_page(pdf, image_path):\n",
    "    pdf.add_page()\n",
    "    pdf.image(image_path, x=10, y=20, w=190)\n",
    "\n",
    "def add_page_with_title_graph_report(pdf, title, graph_path, report):\n",
    "    pdf.add_page()\n",
    "    \n",
    "    pdf.set_font('Arial', 'B', 16)\n",
    "    pdf.cell(0, 10, title, ln=True, align='C')\n",
    "    \n",
    "    pdf.image(graph_path, x=20, y=pdf.get_y() + 20, w=160)\n",
    "    \n",
    "    pdf.set_y(pdf.get_y() + 170)  \n",
    "    pdf.set_font('Arial', '', 12)\n",
    "    pdf.multi_cell(0, 10, report, align='L')\n",
    "\n",
    "pdf = FPDF()\n",
    "\n",
    "add_cover_page(pdf, 'python_logo.png')\n",
    "\n",
    "add_page_with_title_graph_report(pdf, 'Número de Instituições de Ensino por Região', 'grafico_01.png', '''\n",
    "A análise comparativa do número de instituições de ensino por região destaca diferenças significativas entre as regiões do Brasil. A região Sudeste possui o maior número de instituições, enquanto o Nordeste apresenta uma quantidade menor. Essas discrepâncias ressaltam a necessidade de políticas educacionais que abordem a desigualdade regional e promovam a expansão equitativa da educação em todo o país. Investir na criação e fortalecimento de instituições em regiões com menor representatividade é crucial para promover um acesso mais igualitário à educação de qualidade.''')\n",
    "\n",
    "add_page_with_title_graph_report(pdf, 'Comparação de Instituições Públicas e Privadas por Região', 'grafico_02.png', '''\n",
    "A análise comparativa entre instituições públicas e privadas por região revelou que a maioria das instituições de ensino superior no Brasil é de natureza privada. O Sudeste concentra o maior número tanto de instituições públicas quanto privadas, enquanto o Norte e o Centro-Oeste têm uma representação relativamente menor. Essa disparidade ressalta a necessidade de políticas que incentivem o equilíbrio entre instituições públicas e privadas em todas as regiões, visando garantir um acesso mais equitativo à educação de qualidade em todo o país.''')\n",
    "\n",
    "add_page_with_title_graph_report(pdf, 'Distribuição de Cursos por Grau e Região', 'grafico_03.png', '''\n",
    "Nas regiões do Brasil com menor representatividade em cursos de graduação de qualquer tipo, observa-se um desafio adicional relacionado à qualidade do ensino superior. A escassez de instituições de ensino e uma oferta limitada de cursos nessas regiões podem impactar negativamente a qualidade da educação disponível. A falta de acesso a uma variedade de cursos e instituições de renome pode dificultar a formação acadêmica e profissional dos residentes locais, resultando em disparidades educacionais e oportunidades limitadas. Assim, além de ampliar a oferta de cursos, é essencial garantir que a qualidade do ensino seja priorizada em todas as regiões do país, promovendo uma educação superior inclusiva e de alto padrão.''')\n",
    "\n",
    "pdf.add_page()\n",
    "pdf.set_font('Arial', 'B', 16)\n",
    "pdf.cell(0, 10, 'Conclusão', ln=True, align='C')\n",
    "pdf.set_font('Arial', '', 12)\n",
    "pdf.multi_cell(0, 10, '''\n",
    "A análise dos dados e gráficos apresentados neste relatório ressalta a desigualdade regional na oferta de instituições de ensino superior e cursos no Brasil. A região Sudeste se destaca em termos de quantidade de instituições e cursos, enquanto outras regiões enfrentam desafios de acesso e qualidade educacional.\n",
    "\n",
    "É fundamental que políticas públicas busquem reduzir essas discrepâncias, promovendo uma educação de qualidade em todo o país. A expansão equitativa da educação e o investimento em regiões com menor representatividade são passos importantes para construir um sistema educacional mais inclusivo e igualitário.\n",
    "\n",
    "Este relatório oferece insights valiosos para formuladores de políticas, instituições de ensino e todos os envolvidos na promoção da educação no Brasil. A igualdade educacional é um pilar essencial para o desenvolvimento social e econômico do país, e seu alcance deve ser uma prioridade nacional.\n",
    "''', align='L')\n",
    "\n",
    "pdf_file = 'relatorio_educacional.pdf'\n",
    "pdf.output(pdf_file)\n",
    "\n",
    "print(f'O PDF foi criado com sucesso: {pdf_file}')\n"
   ]
  }
 ],
 "metadata": {
  "kernelspec": {
   "display_name": "venv",
   "language": "python",
   "name": "python3"
  },
  "language_info": {
   "codemirror_mode": {
    "name": "ipython",
    "version": 3
   },
   "file_extension": ".py",
   "mimetype": "text/x-python",
   "name": "python",
   "nbconvert_exporter": "python",
   "pygments_lexer": "ipython3",
   "version": "3.11.2"
  },
  "orig_nbformat": 4
 },
 "nbformat": 4,
 "nbformat_minor": 2
}
